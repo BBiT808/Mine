{
 "cells": [
  {
   "cell_type": "code",
   "execution_count": 1,
   "id": "74ac02b8-cb5b-47fe-ad87-88de742ad1e5",
   "metadata": {},
   "outputs": [
    {
     "data": {
      "text/html": [
       "<div>\n",
       "<style scoped>\n",
       "    .dataframe tbody tr th:only-of-type {\n",
       "        vertical-align: middle;\n",
       "    }\n",
       "\n",
       "    .dataframe tbody tr th {\n",
       "        vertical-align: top;\n",
       "    }\n",
       "\n",
       "    .dataframe thead th {\n",
       "        text-align: right;\n",
       "    }\n",
       "</style>\n",
       "<table border=\"1\" class=\"dataframe\">\n",
       "  <thead>\n",
       "    <tr style=\"text-align: right;\">\n",
       "      <th></th>\n",
       "      <th>시점</th>\n",
       "      <th>스트레스 인지율</th>\n",
       "      <th>스트레스 인지율.1</th>\n",
       "      <th>스트레스 인지율.2</th>\n",
       "      <th>우울감 경험률</th>\n",
       "      <th>우울감 경험률.1</th>\n",
       "      <th>우울감 경험률.2</th>\n",
       "      <th>자살 생각률</th>\n",
       "      <th>자살 생각률.1</th>\n",
       "      <th>자살 생각률.2</th>\n",
       "    </tr>\n",
       "  </thead>\n",
       "  <tbody>\n",
       "    <tr>\n",
       "      <th>0</th>\n",
       "      <td>시점</td>\n",
       "      <td>전체</td>\n",
       "      <td>남학생</td>\n",
       "      <td>여학생</td>\n",
       "      <td>전체</td>\n",
       "      <td>남학생</td>\n",
       "      <td>여학생</td>\n",
       "      <td>전체</td>\n",
       "      <td>남학생</td>\n",
       "      <td>여학생</td>\n",
       "    </tr>\n",
       "    <tr>\n",
       "      <th>1</th>\n",
       "      <td>2024</td>\n",
       "      <td>45.3</td>\n",
       "      <td>39.6</td>\n",
       "      <td>51.3</td>\n",
       "      <td>28.2</td>\n",
       "      <td>23.9</td>\n",
       "      <td>32.6</td>\n",
       "      <td>14.2</td>\n",
       "      <td>11.1</td>\n",
       "      <td>17.4</td>\n",
       "    </tr>\n",
       "  </tbody>\n",
       "</table>\n",
       "</div>"
      ],
      "text/plain": [
       "     시점 스트레스 인지율 스트레스 인지율.1 스트레스 인지율.2 우울감 경험률 우울감 경험률.1 우울감 경험률.2 자살 생각률  \\\n",
       "0    시점       전체        남학생        여학생      전체       남학생       여학생     전체   \n",
       "1  2024     45.3       39.6       51.3    28.2      23.9      32.6   14.2   \n",
       "\n",
       "  자살 생각률.1 자살 생각률.2  \n",
       "0      남학생      여학생  \n",
       "1     11.1     17.4  "
      ]
     },
     "execution_count": 1,
     "metadata": {},
     "output_type": "execute_result"
    }
   ],
   "source": [
    "import pandas as pd\n",
    "file_path = \"./data ref/청소년정신건강20250304.csv\"\n",
    "ori = pd.read_csv(file_path)\n",
    "ori"
   ]
  },
  {
   "cell_type": "code",
   "execution_count": 2,
   "id": "599af513-ab53-4c5b-8062-913b0a248e3f",
   "metadata": {},
   "outputs": [
    {
     "data": {
      "text/html": [
       "<div>\n",
       "<style scoped>\n",
       "    .dataframe tbody tr th:only-of-type {\n",
       "        vertical-align: middle;\n",
       "    }\n",
       "\n",
       "    .dataframe tbody tr th {\n",
       "        vertical-align: top;\n",
       "    }\n",
       "\n",
       "    .dataframe thead th {\n",
       "        text-align: right;\n",
       "    }\n",
       "</style>\n",
       "<table border=\"1\" class=\"dataframe\">\n",
       "  <thead>\n",
       "    <tr style=\"text-align: right;\">\n",
       "      <th></th>\n",
       "      <th>시점</th>\n",
       "      <th>스트레스</th>\n",
       "      <th>스트레스남학생</th>\n",
       "      <th>스트레스여학생</th>\n",
       "      <th>우울감경험율</th>\n",
       "      <th>우울남학생</th>\n",
       "      <th>우울여학생</th>\n",
       "      <th>자살생각률</th>\n",
       "      <th>자살남학생</th>\n",
       "      <th>자살여학생</th>\n",
       "    </tr>\n",
       "  </thead>\n",
       "  <tbody>\n",
       "    <tr>\n",
       "      <th>0</th>\n",
       "      <td>시점</td>\n",
       "      <td>전체</td>\n",
       "      <td>남학생</td>\n",
       "      <td>여학생</td>\n",
       "      <td>전체</td>\n",
       "      <td>남학생</td>\n",
       "      <td>여학생</td>\n",
       "      <td>전체</td>\n",
       "      <td>남학생</td>\n",
       "      <td>여학생</td>\n",
       "    </tr>\n",
       "    <tr>\n",
       "      <th>1</th>\n",
       "      <td>2024</td>\n",
       "      <td>45.3</td>\n",
       "      <td>39.6</td>\n",
       "      <td>51.3</td>\n",
       "      <td>28.2</td>\n",
       "      <td>23.9</td>\n",
       "      <td>32.6</td>\n",
       "      <td>14.2</td>\n",
       "      <td>11.1</td>\n",
       "      <td>17.4</td>\n",
       "    </tr>\n",
       "  </tbody>\n",
       "</table>\n",
       "</div>"
      ],
      "text/plain": [
       "     시점  스트레스 스트레스남학생 스트레스여학생 우울감경험율 우울남학생 우울여학생 자살생각률 자살남학생 자살여학생\n",
       "0    시점    전체     남학생     여학생     전체   남학생   여학생    전체   남학생   여학생\n",
       "1  2024  45.3    39.6    51.3   28.2  23.9  32.6  14.2  11.1  17.4"
      ]
     },
     "execution_count": 2,
     "metadata": {},
     "output_type": "execute_result"
    }
   ],
   "source": [
    "# 컬럼명 지정\n",
    "new_name = ['시점','스트레스','스트레스남학생','스트레스여학생','우울감경험율','우울남학생','우울여학생','자살생각률','자살남학생','자살여학생']\n",
    "ori.columns =new_name\n",
    "ori"
   ]
  },
  {
   "cell_type": "code",
   "execution_count": 3,
   "id": "c278c27a-fc46-423b-94a2-72baea881011",
   "metadata": {},
   "outputs": [
    {
     "data": {
      "text/html": [
       "<div>\n",
       "<style scoped>\n",
       "    .dataframe tbody tr th:only-of-type {\n",
       "        vertical-align: middle;\n",
       "    }\n",
       "\n",
       "    .dataframe tbody tr th {\n",
       "        vertical-align: top;\n",
       "    }\n",
       "\n",
       "    .dataframe thead th {\n",
       "        text-align: right;\n",
       "    }\n",
       "</style>\n",
       "<table border=\"1\" class=\"dataframe\">\n",
       "  <thead>\n",
       "    <tr style=\"text-align: right;\">\n",
       "      <th></th>\n",
       "      <th>스트레스</th>\n",
       "      <th>스트레스남학생</th>\n",
       "      <th>스트레스여학생</th>\n",
       "      <th>우울감경험율</th>\n",
       "      <th>우울남학생</th>\n",
       "      <th>우울여학생</th>\n",
       "      <th>자살생각률</th>\n",
       "      <th>자살남학생</th>\n",
       "      <th>자살여학생</th>\n",
       "    </tr>\n",
       "  </thead>\n",
       "  <tbody>\n",
       "    <tr>\n",
       "      <th>1</th>\n",
       "      <td>45.3</td>\n",
       "      <td>39.6</td>\n",
       "      <td>51.3</td>\n",
       "      <td>28.2</td>\n",
       "      <td>23.9</td>\n",
       "      <td>32.6</td>\n",
       "      <td>14.2</td>\n",
       "      <td>11.1</td>\n",
       "      <td>17.4</td>\n",
       "    </tr>\n",
       "  </tbody>\n",
       "</table>\n",
       "</div>"
      ],
      "text/plain": [
       "   스트레스 스트레스남학생 스트레스여학생 우울감경험율 우울남학생 우울여학생 자살생각률 자살남학생 자살여학생\n",
       "1  45.3    39.6    51.3   28.2  23.9  32.6  14.2  11.1  17.4"
      ]
     },
     "execution_count": 3,
     "metadata": {},
     "output_type": "execute_result"
    }
   ],
   "source": [
    "# 시점을 없애고, 0번 행도 없앰.\n",
    "ori=ori.loc[1:,'스트레스':]\n",
    "ori"
   ]
  },
  {
   "cell_type": "code",
   "execution_count": 4,
   "id": "392978e7-625d-4a05-b1e5-29c34fdfa4fc",
   "metadata": {},
   "outputs": [
    {
     "data": {
      "text/html": [
       "<div>\n",
       "<style scoped>\n",
       "    .dataframe tbody tr th:only-of-type {\n",
       "        vertical-align: middle;\n",
       "    }\n",
       "\n",
       "    .dataframe tbody tr th {\n",
       "        vertical-align: top;\n",
       "    }\n",
       "\n",
       "    .dataframe thead th {\n",
       "        text-align: right;\n",
       "    }\n",
       "</style>\n",
       "<table border=\"1\" class=\"dataframe\">\n",
       "  <thead>\n",
       "    <tr style=\"text-align: right;\">\n",
       "      <th></th>\n",
       "      <th>스트레스</th>\n",
       "      <th>스트레스남학생</th>\n",
       "      <th>스트레스여학생</th>\n",
       "      <th>우울감경험율</th>\n",
       "      <th>우울남학생</th>\n",
       "      <th>우울여학생</th>\n",
       "      <th>자살생각률</th>\n",
       "      <th>자살남학생</th>\n",
       "      <th>자살여학생</th>\n",
       "      <th>응답</th>\n",
       "    </tr>\n",
       "  </thead>\n",
       "  <tbody>\n",
       "    <tr>\n",
       "      <th>1</th>\n",
       "      <td>45.3</td>\n",
       "      <td>39.6</td>\n",
       "      <td>51.3</td>\n",
       "      <td>28.2</td>\n",
       "      <td>23.9</td>\n",
       "      <td>32.6</td>\n",
       "      <td>14.2</td>\n",
       "      <td>11.1</td>\n",
       "      <td>17.4</td>\n",
       "      <td>그렇다</td>\n",
       "    </tr>\n",
       "    <tr>\n",
       "      <th>2</th>\n",
       "      <td>54.7</td>\n",
       "      <td>60.4</td>\n",
       "      <td>48.7</td>\n",
       "      <td>71.8</td>\n",
       "      <td>76.1</td>\n",
       "      <td>67.4</td>\n",
       "      <td>85.8</td>\n",
       "      <td>88.9</td>\n",
       "      <td>82.6</td>\n",
       "      <td>아니다</td>\n",
       "    </tr>\n",
       "  </tbody>\n",
       "</table>\n",
       "</div>"
      ],
      "text/plain": [
       "   스트레스 스트레스남학생 스트레스여학생 우울감경험율 우울남학생 우울여학생 자살생각률 자살남학생 자살여학생   응답\n",
       "1  45.3    39.6    51.3   28.2  23.9  32.6  14.2  11.1  17.4  그렇다\n",
       "2  54.7    60.4    48.7   71.8  76.1  67.4  85.8  88.9  82.6  아니다"
      ]
     },
     "execution_count": 4,
     "metadata": {},
     "output_type": "execute_result"
    }
   ],
   "source": [
    "# 2번 인덱스 행을 생성, 100에서 값을 뺀 값\n",
    "ori.loc[2] = 100 - ori.loc[1, '스트레스' : ].astype(float) # astype은 표 데이터의 타입을 바꿈!!\n",
    "#마지막에 응답컬럼을 생성, 그렇다 or 아니다.\n",
    "ori['응답'] =['그렇다','아니다']\n",
    "ori"
   ]
  },
  {
   "cell_type": "code",
   "execution_count": 5,
   "id": "3305c111-41ae-4657-81b1-344d546d0246",
   "metadata": {},
   "outputs": [
    {
     "data": {
      "text/html": [
       "<div>\n",
       "<style scoped>\n",
       "    .dataframe tbody tr th:only-of-type {\n",
       "        vertical-align: middle;\n",
       "    }\n",
       "\n",
       "    .dataframe tbody tr th {\n",
       "        vertical-align: top;\n",
       "    }\n",
       "\n",
       "    .dataframe thead th {\n",
       "        text-align: right;\n",
       "    }\n",
       "</style>\n",
       "<table border=\"1\" class=\"dataframe\">\n",
       "  <thead>\n",
       "    <tr style=\"text-align: right;\">\n",
       "      <th></th>\n",
       "      <th>스트레스</th>\n",
       "      <th>스트레스남학생</th>\n",
       "      <th>스트레스여학생</th>\n",
       "      <th>우울감경험율</th>\n",
       "      <th>우울남학생</th>\n",
       "      <th>우울여학생</th>\n",
       "      <th>자살생각률</th>\n",
       "      <th>자살남학생</th>\n",
       "      <th>자살여학생</th>\n",
       "    </tr>\n",
       "    <tr>\n",
       "      <th>응답</th>\n",
       "      <th></th>\n",
       "      <th></th>\n",
       "      <th></th>\n",
       "      <th></th>\n",
       "      <th></th>\n",
       "      <th></th>\n",
       "      <th></th>\n",
       "      <th></th>\n",
       "      <th></th>\n",
       "    </tr>\n",
       "  </thead>\n",
       "  <tbody>\n",
       "    <tr>\n",
       "      <th>그렇다</th>\n",
       "      <td>45.3</td>\n",
       "      <td>39.6</td>\n",
       "      <td>51.3</td>\n",
       "      <td>28.2</td>\n",
       "      <td>23.9</td>\n",
       "      <td>32.6</td>\n",
       "      <td>14.2</td>\n",
       "      <td>11.1</td>\n",
       "      <td>17.4</td>\n",
       "    </tr>\n",
       "    <tr>\n",
       "      <th>아니다</th>\n",
       "      <td>54.7</td>\n",
       "      <td>60.4</td>\n",
       "      <td>48.7</td>\n",
       "      <td>71.8</td>\n",
       "      <td>76.1</td>\n",
       "      <td>67.4</td>\n",
       "      <td>85.8</td>\n",
       "      <td>88.9</td>\n",
       "      <td>82.6</td>\n",
       "    </tr>\n",
       "  </tbody>\n",
       "</table>\n",
       "</div>"
      ],
      "text/plain": [
       "     스트레스 스트레스남학생 스트레스여학생 우울감경험율 우울남학생 우울여학생 자살생각률 자살남학생 자살여학생\n",
       "응답                                                            \n",
       "그렇다  45.3    39.6    51.3   28.2  23.9  32.6  14.2  11.1  17.4\n",
       "아니다  54.7    60.4    48.7   71.8  76.1  67.4  85.8  88.9  82.6"
      ]
     },
     "execution_count": 5,
     "metadata": {},
     "output_type": "execute_result"
    }
   ],
   "source": [
    "ori = ori.set_index('응답')\n",
    "ori"
   ]
  },
  {
   "cell_type": "code",
   "execution_count": 6,
   "id": "2f294336-442c-450d-8cc5-8ac8c438bfef",
   "metadata": {},
   "outputs": [],
   "source": [
    "# OS에 사용가능한 , 설치된 폰트를 나열\n",
    "import matplotlib\n",
    "import matplotlib.pyplot as plt\n",
    "from matplotlib import rc\n",
    "import matplotlib.font_manager as fm\n",
    "fontlist = fm.findSystemFonts(fontpaths=None, fontext='ttf')\n",
    "#fontlist : 있는 폰트 다 보여줌 ~"
   ]
  },
  {
   "cell_type": "code",
   "execution_count": 7,
   "id": "39f2c7b7-d30b-4993-9588-7168aee69cdb",
   "metadata": {},
   "outputs": [
    {
     "data": {
      "text/plain": [
       "Text(0.2, 0.4, '한글')"
      ]
     },
     "execution_count": 7,
     "metadata": {},
     "output_type": "execute_result"
    },
    {
     "data": {
      "image/png": "[encoded data removed]",
      "text/plain": [
       "<Figure size 640x480 with 1 Axes>"
      ]
     },
     "metadata": {},
     "output_type": "display_data"
    }
   ],
   "source": [
    "# 윈도우용 폰트 경로 설정\n",
    "path = \"C:\\\\Windows\\\\Fonts\\\\NanumGothic.ttf\"\n",
    "font_name = fm.FontProperties(fname=path).get_name()\n",
    "rc('font',family=font_name)\n",
    "plt.text(0.2,0.4,'한글',size=100)"
   ]
  },
  {
   "cell_type": "code",
   "execution_count": 8,
   "id": "880b3008-9b08-4470-8f76-09a228c7f279",
   "metadata": {},
   "outputs": [
    {
     "data": {
      "text/plain": [
       "<Axes: ylabel='스트레스'>"
      ]
     },
     "execution_count": 8,
     "metadata": {},
     "output_type": "execute_result"
    },
    {
     "data": {
      "image/png": "[encoded data removed]",
      "text/plain": [
       "<Figure size 640x480 with 1 Axes>"
      ]
     },
     "metadata": {},
     "output_type": "display_data"
    }
   ],
   "source": [
    "ori['스트레스'].astype(float).plot.pie(explode = [0,0.02])"
   ]
  },
  {
   "cell_type": "code",
   "execution_count": 9,
   "id": "2397d5db-b134-4279-97d9-7fb5c9b44f85",
   "metadata": {},
   "outputs": [
    {
     "data": {
      "image/png": "[encoded data removed]",
      "text/plain": [
       "<Figure size 1000x800 with 3 Axes>"
      ]
     },
     "metadata": {},
     "output_type": "display_data"
    }
   ],
   "source": [
    "fig, ax = plt.subplots(1,3,figsize=(10,8))\n",
    "\n",
    "ori['스트레스'].astype(float).plot.pie(explode =[0,0.1],ax=ax[0],autopct=\"%.1f%%\")\n",
    "ax[0].set_title('스트레스를 받은 적 있다.')\n",
    "ax[0].set_ylabel('')\n",
    "\n",
    "ori['우울감경험율'].astype(float).plot.pie(explode =[0,0.1],ax=ax[1],autopct=\"%.1f%%\")\n",
    "ax[1].set_title('우울증을 경험한 적 있다.')\n",
    "ax[1].set_ylabel('')\n",
    "\n",
    "ori['자살생각률'].astype(float).plot.pie(explode =[0,0.1],ax=ax[2],autopct=\"%.1f%%\")\n",
    "ax[2].set_title('자살을 생각한 적 있다.')\n",
    "ax[2].set_ylabel('')\n",
    "\n",
    "plt.show()  # return, print 같이 마무리의 느낌으로 꼭 써주자~"
   ]
  },
  {
   "cell_type": "code",
   "execution_count": 10,
   "id": "226be7dc-3d11-43f7-81d0-2ee5d49b7ddf",
   "metadata": {},
   "outputs": [
    {
     "data": {
      "text/html": [
       "<div>\n",
       "<style scoped>\n",
       "    .dataframe tbody tr th:only-of-type {\n",
       "        vertical-align: middle;\n",
       "    }\n",
       "\n",
       "    .dataframe tbody tr th {\n",
       "        vertical-align: top;\n",
       "    }\n",
       "\n",
       "    .dataframe thead th {\n",
       "        text-align: right;\n",
       "    }\n",
       "</style>\n",
       "<table border=\"1\" class=\"dataframe\">\n",
       "  <thead>\n",
       "    <tr style=\"text-align: right;\">\n",
       "      <th></th>\n",
       "      <th>시점</th>\n",
       "      <th>스트레스 인지율</th>\n",
       "      <th>스트레스 인지율.1</th>\n",
       "      <th>스트레스 인지율.2</th>\n",
       "      <th>우울감 경험률</th>\n",
       "      <th>우울감 경험률.1</th>\n",
       "      <th>우울감 경험률.2</th>\n",
       "      <th>자살 생각률</th>\n",
       "      <th>자살 생각률.1</th>\n",
       "      <th>자살 생각률.2</th>\n",
       "    </tr>\n",
       "  </thead>\n",
       "  <tbody>\n",
       "    <tr>\n",
       "      <th>0</th>\n",
       "      <td>시점</td>\n",
       "      <td>전체</td>\n",
       "      <td>남학생</td>\n",
       "      <td>여학생</td>\n",
       "      <td>전체</td>\n",
       "      <td>남학생</td>\n",
       "      <td>여학생</td>\n",
       "      <td>전체</td>\n",
       "      <td>남학생</td>\n",
       "      <td>여학생</td>\n",
       "    </tr>\n",
       "    <tr>\n",
       "      <th>1</th>\n",
       "      <td>2023</td>\n",
       "      <td>39.6</td>\n",
       "      <td>33.4</td>\n",
       "      <td>46.2</td>\n",
       "      <td>27.5</td>\n",
       "      <td>23.3</td>\n",
       "      <td>32.0</td>\n",
       "      <td>14.5</td>\n",
       "      <td>10.5</td>\n",
       "      <td>18.9</td>\n",
       "    </tr>\n",
       "    <tr>\n",
       "      <th>2</th>\n",
       "      <td>2024</td>\n",
       "      <td>45.3</td>\n",
       "      <td>39.6</td>\n",
       "      <td>51.3</td>\n",
       "      <td>28.2</td>\n",
       "      <td>23.9</td>\n",
       "      <td>32.6</td>\n",
       "      <td>14.2</td>\n",
       "      <td>11.1</td>\n",
       "      <td>17.4</td>\n",
       "    </tr>\n",
       "  </tbody>\n",
       "</table>\n",
       "</div>"
      ],
      "text/plain": [
       "     시점 스트레스 인지율 스트레스 인지율.1 스트레스 인지율.2 우울감 경험률 우울감 경험률.1 우울감 경험률.2 자살 생각률  \\\n",
       "0    시점       전체        남학생        여학생      전체       남학생       여학생     전체   \n",
       "1  2023     39.6       33.4       46.2    27.5      23.3      32.0   14.5   \n",
       "2  2024     45.3       39.6       51.3    28.2      23.9      32.6   14.2   \n",
       "\n",
       "  자살 생각률.1 자살 생각률.2  \n",
       "0      남학생      여학생  \n",
       "1     10.5     18.9  \n",
       "2     11.1     17.4  "
      ]
     },
     "execution_count": 10,
     "metadata": {},
     "output_type": "execute_result"
    }
   ],
   "source": [
    "import pandas as pd\n",
    "file_path = \"./data ref/청소년정신건강_202324.csv\"\n",
    "orig = pd.read_csv(file_path)\n",
    "orig"
   ]
  },
  {
   "cell_type": "code",
   "execution_count": 11,
   "id": "70852ea0-51e7-46ef-8bec-f0df7eb1a151",
   "metadata": {},
   "outputs": [
    {
     "data": {
      "text/html": [
       "<div>\n",
       "<style scoped>\n",
       "    .dataframe tbody tr th:only-of-type {\n",
       "        vertical-align: middle;\n",
       "    }\n",
       "\n",
       "    .dataframe tbody tr th {\n",
       "        vertical-align: top;\n",
       "    }\n",
       "\n",
       "    .dataframe thead th {\n",
       "        text-align: right;\n",
       "    }\n",
       "</style>\n",
       "<table border=\"1\" class=\"dataframe\">\n",
       "  <thead>\n",
       "    <tr style=\"text-align: right;\">\n",
       "      <th></th>\n",
       "      <th>시점</th>\n",
       "      <th>스트레스</th>\n",
       "      <th>스트레스남학생</th>\n",
       "      <th>스트레스여학생</th>\n",
       "      <th>우울감경험율</th>\n",
       "      <th>우울남학생</th>\n",
       "      <th>우울여학생</th>\n",
       "      <th>자살생각률</th>\n",
       "      <th>자살남학생</th>\n",
       "      <th>자살여학생</th>\n",
       "    </tr>\n",
       "  </thead>\n",
       "  <tbody>\n",
       "    <tr>\n",
       "      <th>0</th>\n",
       "      <td>시점</td>\n",
       "      <td>전체</td>\n",
       "      <td>남학생</td>\n",
       "      <td>여학생</td>\n",
       "      <td>전체</td>\n",
       "      <td>남학생</td>\n",
       "      <td>여학생</td>\n",
       "      <td>전체</td>\n",
       "      <td>남학생</td>\n",
       "      <td>여학생</td>\n",
       "    </tr>\n",
       "    <tr>\n",
       "      <th>1</th>\n",
       "      <td>2023</td>\n",
       "      <td>39.6</td>\n",
       "      <td>33.4</td>\n",
       "      <td>46.2</td>\n",
       "      <td>27.5</td>\n",
       "      <td>23.3</td>\n",
       "      <td>32.0</td>\n",
       "      <td>14.5</td>\n",
       "      <td>10.5</td>\n",
       "      <td>18.9</td>\n",
       "    </tr>\n",
       "    <tr>\n",
       "      <th>2</th>\n",
       "      <td>2024</td>\n",
       "      <td>45.3</td>\n",
       "      <td>39.6</td>\n",
       "      <td>51.3</td>\n",
       "      <td>28.2</td>\n",
       "      <td>23.9</td>\n",
       "      <td>32.6</td>\n",
       "      <td>14.2</td>\n",
       "      <td>11.1</td>\n",
       "      <td>17.4</td>\n",
       "    </tr>\n",
       "  </tbody>\n",
       "</table>\n",
       "</div>"
      ],
      "text/plain": [
       "     시점  스트레스 스트레스남학생 스트레스여학생 우울감경험율 우울남학생 우울여학생 자살생각률 자살남학생 자살여학생\n",
       "0    시점    전체     남학생     여학생     전체   남학생   여학생    전체   남학생   여학생\n",
       "1  2023  39.6    33.4    46.2   27.5  23.3  32.0  14.5  10.5  18.9\n",
       "2  2024  45.3    39.6    51.3   28.2  23.9  32.6  14.2  11.1  17.4"
      ]
     },
     "execution_count": 11,
     "metadata": {},
     "output_type": "execute_result"
    }
   ],
   "source": [
    "# 컬럼명 지정\n",
    "new_name = ['시점','스트레스','스트레스남학생','스트레스여학생','우울감경험율','우울남학생','우울여학생','자살생각률','자살남학생','자살여학생']\n",
    "orig.columns =new_name\n",
    "orig"
   ]
  },
  {
   "cell_type": "code",
   "execution_count": 12,
   "id": "577c0cf1-f992-434d-ae97-6348a1cb1959",
   "metadata": {},
   "outputs": [
    {
     "data": {
      "text/plain": [
       "시점         2023\n",
       "스트레스       39.6\n",
       "스트레스남학생    33.4\n",
       "스트레스여학생    46.2\n",
       "우울감경험율     27.5\n",
       "우울남학생      23.3\n",
       "우울여학생      32.0\n",
       "자살생각률      14.5\n",
       "자살남학생      10.5\n",
       "자살여학생      18.9\n",
       "Name: 1, dtype: object"
      ]
     },
     "execution_count": 12,
     "metadata": {},
     "output_type": "execute_result"
    }
   ],
   "source": [
    "# 0번 행도 없앰.\n",
    "orig=orig.loc[1]\n",
    "orig"
   ]
  },
  {
   "cell_type": "code",
   "execution_count": 13,
   "id": "6f3d18cf-a66c-4b71-9847-0c952c00064a",
   "metadata": {},
   "outputs": [
    {
     "ename": "IndexingError",
     "evalue": "Too many indexers",
     "output_type": "error",
     "traceback": [
      "\u001b[1;31m---------------------------------------------------------------------------\u001b[0m",
      "\u001b[1;31mIndexingError\u001b[0m                             Traceback (most recent call last)",
      "Cell \u001b[1;32mIn[13], line 2\u001b[0m\n\u001b[0;32m      1\u001b[0m \u001b[38;5;66;03m# 2번 인덱스 행을 생성, 100에서 값을 뺀 값\u001b[39;00m\n\u001b[1;32m----> 2\u001b[0m orig\u001b[38;5;241m.\u001b[39mloc[\u001b[38;5;241m2\u001b[39m] \u001b[38;5;241m=\u001b[39m \u001b[38;5;241m100\u001b[39m \u001b[38;5;241m-\u001b[39m \u001b[43morig\u001b[49m\u001b[38;5;241;43m.\u001b[39;49m\u001b[43mloc\u001b[49m\u001b[43m[\u001b[49m\u001b[38;5;241;43m1\u001b[39;49m\u001b[43m,\u001b[49m\u001b[43m \u001b[49m\u001b[38;5;124;43m'\u001b[39;49m\u001b[38;5;124;43m스트레스\u001b[39;49m\u001b[38;5;124;43m'\u001b[39;49m\u001b[43m \u001b[49m\u001b[43m:\u001b[49m\u001b[43m \u001b[49m\u001b[43m]\u001b[49m\u001b[38;5;241m.\u001b[39mastype(\u001b[38;5;28mfloat\u001b[39m) \u001b[38;5;66;03m# astype은 표 데이터의 타입을 바꿈!!\u001b[39;00m\n\u001b[0;32m      3\u001b[0m orig\n",
      "File \u001b[1;32m~\\AppData\\Local\\Programs\\Python\\Python313\\Lib\\site-packages\\pandas\\core\\indexing.py:1184\u001b[0m, in \u001b[0;36m_LocationIndexer.__getitem__\u001b[1;34m(self, key)\u001b[0m\n\u001b[0;32m   1182\u001b[0m     \u001b[38;5;28;01mif\u001b[39;00m \u001b[38;5;28mself\u001b[39m\u001b[38;5;241m.\u001b[39m_is_scalar_access(key):\n\u001b[0;32m   1183\u001b[0m         \u001b[38;5;28;01mreturn\u001b[39;00m \u001b[38;5;28mself\u001b[39m\u001b[38;5;241m.\u001b[39mobj\u001b[38;5;241m.\u001b[39m_get_value(\u001b[38;5;241m*\u001b[39mkey, takeable\u001b[38;5;241m=\u001b[39m\u001b[38;5;28mself\u001b[39m\u001b[38;5;241m.\u001b[39m_takeable)\n\u001b[1;32m-> 1184\u001b[0m     \u001b[38;5;28;01mreturn\u001b[39;00m \u001b[38;5;28;43mself\u001b[39;49m\u001b[38;5;241;43m.\u001b[39;49m\u001b[43m_getitem_tuple\u001b[49m\u001b[43m(\u001b[49m\u001b[43mkey\u001b[49m\u001b[43m)\u001b[49m\n\u001b[0;32m   1185\u001b[0m \u001b[38;5;28;01melse\u001b[39;00m:\n\u001b[0;32m   1186\u001b[0m     \u001b[38;5;66;03m# we by definition only have the 0th axis\u001b[39;00m\n\u001b[0;32m   1187\u001b[0m     axis \u001b[38;5;241m=\u001b[39m \u001b[38;5;28mself\u001b[39m\u001b[38;5;241m.\u001b[39maxis \u001b[38;5;129;01mor\u001b[39;00m \u001b[38;5;241m0\u001b[39m\n",
      "File \u001b[1;32m~\\AppData\\Local\\Programs\\Python\\Python313\\Lib\\site-packages\\pandas\\core\\indexing.py:1371\u001b[0m, in \u001b[0;36m_LocIndexer._getitem_tuple\u001b[1;34m(self, tup)\u001b[0m\n\u001b[0;32m   1368\u001b[0m     \u001b[38;5;28;01mreturn\u001b[39;00m \u001b[38;5;28mself\u001b[39m\u001b[38;5;241m.\u001b[39m_getitem_lowerdim(tup)\n\u001b[0;32m   1370\u001b[0m \u001b[38;5;66;03m# no multi-index, so validate all of the indexers\u001b[39;00m\n\u001b[1;32m-> 1371\u001b[0m tup \u001b[38;5;241m=\u001b[39m \u001b[38;5;28;43mself\u001b[39;49m\u001b[38;5;241;43m.\u001b[39;49m\u001b[43m_validate_tuple_indexer\u001b[49m\u001b[43m(\u001b[49m\u001b[43mtup\u001b[49m\u001b[43m)\u001b[49m\n\u001b[0;32m   1373\u001b[0m \u001b[38;5;66;03m# ugly hack for GH #836\u001b[39;00m\n\u001b[0;32m   1374\u001b[0m \u001b[38;5;28;01mif\u001b[39;00m \u001b[38;5;28mself\u001b[39m\u001b[38;5;241m.\u001b[39m_multi_take_opportunity(tup):\n",
      "File \u001b[1;32m~\\AppData\\Local\\Programs\\Python\\Python313\\Lib\\site-packages\\pandas\\core\\indexing.py:962\u001b[0m, in \u001b[0;36m_LocationIndexer._validate_tuple_indexer\u001b[1;34m(self, key)\u001b[0m\n\u001b[0;32m    957\u001b[0m \u001b[38;5;129m@final\u001b[39m\n\u001b[0;32m    958\u001b[0m \u001b[38;5;28;01mdef\u001b[39;00m\u001b[38;5;250m \u001b[39m\u001b[38;5;21m_validate_tuple_indexer\u001b[39m(\u001b[38;5;28mself\u001b[39m, key: \u001b[38;5;28mtuple\u001b[39m) \u001b[38;5;241m-\u001b[39m\u001b[38;5;241m>\u001b[39m \u001b[38;5;28mtuple\u001b[39m:\n\u001b[0;32m    959\u001b[0m \u001b[38;5;250m    \u001b[39m\u001b[38;5;124;03m\"\"\"\u001b[39;00m\n\u001b[0;32m    960\u001b[0m \u001b[38;5;124;03m    Check the key for valid keys across my indexer.\u001b[39;00m\n\u001b[0;32m    961\u001b[0m \u001b[38;5;124;03m    \"\"\"\u001b[39;00m\n\u001b[1;32m--> 962\u001b[0m     key \u001b[38;5;241m=\u001b[39m \u001b[38;5;28;43mself\u001b[39;49m\u001b[38;5;241;43m.\u001b[39;49m\u001b[43m_validate_key_length\u001b[49m\u001b[43m(\u001b[49m\u001b[43mkey\u001b[49m\u001b[43m)\u001b[49m\n\u001b[0;32m    963\u001b[0m     key \u001b[38;5;241m=\u001b[39m \u001b[38;5;28mself\u001b[39m\u001b[38;5;241m.\u001b[39m_expand_ellipsis(key)\n\u001b[0;32m    964\u001b[0m     \u001b[38;5;28;01mfor\u001b[39;00m i, k \u001b[38;5;129;01min\u001b[39;00m \u001b[38;5;28menumerate\u001b[39m(key):\n",
      "File \u001b[1;32m~\\AppData\\Local\\Programs\\Python\\Python313\\Lib\\site-packages\\pandas\\core\\indexing.py:1001\u001b[0m, in \u001b[0;36m_LocationIndexer._validate_key_length\u001b[1;34m(self, key)\u001b[0m\n\u001b[0;32m    999\u001b[0m             \u001b[38;5;28;01mraise\u001b[39;00m IndexingError(_one_ellipsis_message)\n\u001b[0;32m   1000\u001b[0m         \u001b[38;5;28;01mreturn\u001b[39;00m \u001b[38;5;28mself\u001b[39m\u001b[38;5;241m.\u001b[39m_validate_key_length(key)\n\u001b[1;32m-> 1001\u001b[0m     \u001b[38;5;28;01mraise\u001b[39;00m IndexingError(\u001b[38;5;124m\"\u001b[39m\u001b[38;5;124mToo many indexers\u001b[39m\u001b[38;5;124m\"\u001b[39m)\n\u001b[0;32m   1002\u001b[0m \u001b[38;5;28;01mreturn\u001b[39;00m key\n",
      "\u001b[1;31mIndexingError\u001b[0m: Too many indexers"
     ]
    }
   ],
   "source": [
    "# 2번 인덱스 행을 생성, 100에서 값을 뺀 값\n",
    "orig.loc[2] = 100 - orig.loc[1, '스트레스' : ].astype(float) # astype은 표 데이터의 타입을 바꿈!!\n",
    "orig"
   ]
  },
  {
   "cell_type": "code",
   "execution_count": null,
   "id": "f0ba9c4c-b44d-444a-b6fd-572784f45bf7",
   "metadata": {},
   "outputs": [],
   "source": [
    "orig['응답'] =['그렇다','아니다']\n",
    "orig"
   ]
  },
  {
   "cell_type": "code",
   "execution_count": null,
   "id": "686f2b80-a2d2-48ba-924a-4e5ddd202326",
   "metadata": {},
   "outputs": [],
   "source": [
    "orig['스트레스'].astype(float).plot.pie()"
   ]
  },
  {
   "cell_type": "code",
   "execution_count": null,
   "id": "b5deecdf-a813-47f0-915c-af8e7d0ef48f",
   "metadata": {},
   "outputs": [],
   "source": [
    "fig, ax = plt.subplots(2,3,figsize=(10,8))\n",
    "\n",
    "\n",
    "ori['스트레스'].astype(float).plot.pie(explode =[0,0.1],ax=ax[0][0],autopct=\"%.1f%%\")\n",
    "ax[0][0].set_title('스트레스를 받은 적 있다.')\n",
    "ax[0][0].set_ylabel('2023년')\n",
    "\n",
    "ori['우울감경험율'].astype(float).plot.pie(explode =[0,0.1],ax=ax[0][1],autopct=\"%.1f%%\")\n",
    "ax[0][1].set_title('우울증을 경험한 적 있다.')\n",
    "ax[0][1].set_ylabel('')\n",
    "\n",
    "ori['자살생각률'].astype(float).plot.pie(explode =[0,0.1],ax=ax[0][2],autopct=\"%.1f%%\")\n",
    "ax[0][2].set_title('자살을 생각한 적 있다.')\n",
    "ax[0][2].set_ylabel('')\n",
    "\n",
    "orig['스트레스'].astype(float).plot.pie(ax=ax[1][0],autopct=\"%.1f%%\")\n",
    "ax[1][0].set_title('스트레스를 받은 적 있다.')\n",
    "ax[1][0].set_ylabel('2024년')\n",
    "\n",
    "orig['우울감경험율'].astype(float).plot.pie(ax=ax[1][1],autopct=\"%.1f%%\")\n",
    "ax[1][1].set_title('우울증을 경험한 적 있다.')\n",
    "ax[1][1].set_ylabel('')\n",
    "\n",
    "orig['자살생각률'].astype(float).plot.pie(ax=ax[1][2],autopct=\"%.1f%%\")\n",
    "ax[1][2].set_title('자살을 생각한 적 있다.')\n",
    "ax[1][2].set_ylabel('')\n",
    "\n",
    "plt.suptitle('2023-24년 청소년 정신건강 관련 통계', fontsize=16)\n",
    "plt.show()  # return, print 같이 마무리의 느낌으로 꼭 써주자~"
   ]
  },
  {
   "cell_type": "code",
   "execution_count": null,
   "id": "27991d07-6f55-4d98-8241-c0268d180fe4",
   "metadata": {},
   "outputs": [],
   "source": []
  }
 ],
 "metadata": {
  "kernelspec": {
   "display_name": "Python 3 (ipykernel)",
   "language": "python",
   "name": "python3"
  },
  "language_info": {
   "codemirror_mode": {
    "name": "ipython",
    "version": 3
   },
   "file_extension": ".py",
   "mimetype": "text/x-python",
   "name": "python",
   "nbconvert_exporter": "python",
   "pygments_lexer": "ipython3",
   "version": "3.13.1"
  }
 },
 "nbformat": 4,
 "nbformat_minor": 5
}
